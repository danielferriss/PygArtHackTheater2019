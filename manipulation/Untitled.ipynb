{
 "cells": [
  {
   "cell_type": "code",
   "execution_count": null,
   "metadata": {
    "collapsed": true
   },
   "outputs": [],
   "source": [
    "import plotly"
   ]
  },
  {
   "cell_type": "code",
   "execution_count": null,
   "metadata": {
    "collapsed": true
   },
   "outputs": [],
   "source": [
    "y = [53, 253, 86, 65, 47, 26, 16, 23, 7, 12, 60, 48, 69, 24, 77, 33, 39, 40, 43, 6, 25, 3, 1, 1]\n",
    "x = ['Biography', 'Drama', 'Comedy', 'Romance', 'Fantasy', 'Music', 'Musical', 'Family', 'Sport', 'War', 'Horror', 'Sci-Fi', 'Documentary', 'Animation', 'Thriller', 'History', 'Adventure', 'Mystery', 'Crime', 'Western', 'Action', 'Short', 'Film-Noir', 'News']\n",
    "fig = px.bar(data)\n",
    "fig.show()"
   ]
  },
  {
   "cell_type": "code",
   "execution_count": null,
   "metadata": {
    "collapsed": true
   },
   "outputs": [],
   "source": []
  }
 ],
 "metadata": {
  "kernelspec": {
   "display_name": "Python 3",
   "language": "python",
   "name": "python3"
  }
 },
 "nbformat": 4,
 "nbformat_minor": 2
}
